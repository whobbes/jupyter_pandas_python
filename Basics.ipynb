{
 "cells": [
  {
   "cell_type": "code",
   "execution_count": null,
   "metadata": {},
   "outputs": [],
   "source": []
  },
  {
   "cell_type": "markdown",
   "metadata": {},
   "source": [
    "# Python and Pandas in Jupyter - Basics"
   ]
  },
  {
   "cell_type": "markdown",
   "metadata": {
    "heading_collapsed": true
   },
   "source": [
    "## Abstract\n",
    "\n",
    "Data importing, processing and visualization usually needs lots of boilerplate code and run slow. This means that exploratory data analysis is often not done or take a lot of time. In this workshop, I will teach you how Python and Pandas can process your data in 10 lines of code."
   ]
  },
  {
   "cell_type": "markdown",
   "metadata": {},
   "source": [
    "## Setup"
   ]
  },
  {
   "cell_type": "code",
   "execution_count": null,
   "metadata": {
    "ExecuteTime": {
     "end_time": "2019-06-07T16:44:29.257407Z",
     "start_time": "2019-06-07T16:44:29.251625Z"
    }
   },
   "outputs": [],
   "source": [
    "# Summon our favorite friends\n",
    "%matplotlib inline\n",
    "import matplotlib.pyplot as plt # Matplotlib, 2D plotting library\n",
    "import pandas as pd #  Pandas, high-performance, easy-to-use data structures and data analysis tools\n",
    "import numpy as np # Numpy, scientific computing"
   ]
  },
  {
   "cell_type": "code",
   "execution_count": null,
   "metadata": {
    "ExecuteTime": {
     "end_time": "2019-06-07T13:42:18.556441Z",
     "start_time": "2019-06-07T13:42:18.432920Z"
    }
   },
   "outputs": [],
   "source": [
    "# Run bash command\n",
    "!ls data"
   ]
  },
  {
   "cell_type": "code",
   "execution_count": null,
   "metadata": {
    "ExecuteTime": {
     "end_time": "2019-06-07T14:03:57.623904Z",
     "start_time": "2019-06-07T14:03:57.610419Z"
    }
   },
   "outputs": [],
   "source": [
    "%%bash\n",
    "# Magic at work here\n",
    "\n",
    "YO=\"LO\"\n",
    "echo $YO"
   ]
  },
  {
   "cell_type": "markdown",
   "metadata": {},
   "source": [
    "For list of commands: `SHIFT + CMD + P`"
   ]
  },
  {
   "cell_type": "markdown",
   "metadata": {
    "heading_collapsed": true
   },
   "source": [
    "## DataFrame"
   ]
  },
  {
   "cell_type": "code",
   "execution_count": null,
   "metadata": {
    "ExecuteTime": {
     "end_time": "2019-06-07T13:49:47.620397Z",
     "start_time": "2019-06-07T13:49:47.611628Z"
    },
    "hidden": true
   },
   "outputs": [],
   "source": [
    "# Create DataFrame\n",
    "df = pd.DataFrame(\n",
    "{\n",
    "    \"a\": [1,2,3],\n",
    "    \"b\": [4,5,6],\n",
    "    \"c\": [7,8,9]\n",
    "})\n",
    "\n",
    "df # Jupyter print last statement by default"
   ]
  },
  {
   "cell_type": "code",
   "execution_count": null,
   "metadata": {
    "ExecuteTime": {
     "end_time": "2019-06-07T13:50:19.583385Z",
     "start_time": "2019-06-07T13:50:19.575548Z"
    },
    "hidden": true
   },
   "outputs": [],
   "source": [
    "# Broadcasting\n",
    "df = df + 4\n",
    "\n",
    "df"
   ]
  },
  {
   "cell_type": "code",
   "execution_count": null,
   "metadata": {
    "ExecuteTime": {
     "end_time": "2019-06-07T14:31:45.817766Z",
     "start_time": "2019-06-07T14:31:40.903648Z"
    },
    "hidden": true
   },
   "outputs": [],
   "source": [
    "%%timeit\n",
    "# Naive looping\n",
    "df = pd.DataFrame(np.random.randint(0,100,size=(100, 1)), columns=list('A'))\n",
    "for index, row in df.iterrows():\n",
    "    row['A'] += 4"
   ]
  },
  {
   "cell_type": "code",
   "execution_count": null,
   "metadata": {
    "ExecuteTime": {
     "end_time": "2019-06-07T14:31:18.746262Z",
     "start_time": "2019-06-07T14:31:16.324628Z"
    },
    "hidden": true
   },
   "outputs": [],
   "source": [
    "%%timeit\n",
    "# Vectorized looping\n",
    "df = pd.DataFrame(np.random.randint(0,100,size=(100, 1)), columns=list('A'))\n",
    "df = df + 4"
   ]
  },
  {
   "cell_type": "code",
   "execution_count": null,
   "metadata": {
    "ExecuteTime": {
     "end_time": "2019-06-07T14:37:08.661623Z",
     "start_time": "2019-06-07T14:37:08.653679Z"
    },
    "hidden": true
   },
   "outputs": [],
   "source": [
    "df1 = pd.DataFrame(np.random.randint(0,100,size=(3, 3)), columns=list('ABC'))\n",
    "df1"
   ]
  },
  {
   "cell_type": "code",
   "execution_count": null,
   "metadata": {
    "ExecuteTime": {
     "end_time": "2019-06-07T14:37:39.040637Z",
     "start_time": "2019-06-07T14:37:39.033450Z"
    },
    "hidden": true
   },
   "outputs": [],
   "source": [
    "df2 = pd.DataFrame(np.random.randint(0,100,size=(3, 1)), columns=list('A'))\n",
    "df2"
   ]
  },
  {
   "cell_type": "code",
   "execution_count": null,
   "metadata": {
    "ExecuteTime": {
     "end_time": "2019-06-07T14:40:13.478457Z",
     "start_time": "2019-06-07T14:40:13.473826Z"
    },
    "hidden": true
   },
   "outputs": [],
   "source": [
    "df3 = df1 * df2\n",
    "df3"
   ]
  },
  {
   "cell_type": "code",
   "execution_count": null,
   "metadata": {
    "ExecuteTime": {
     "end_time": "2019-06-07T14:38:43.527158Z",
     "start_time": "2019-06-07T14:38:43.518851Z"
    },
    "hidden": true
   },
   "outputs": [],
   "source": [
    "df3.fillna(0)"
   ]
  },
  {
   "cell_type": "code",
   "execution_count": null,
   "metadata": {
    "ExecuteTime": {
     "end_time": "2019-06-07T15:15:25.101668Z",
     "start_time": "2019-06-07T15:15:25.088026Z"
    },
    "hidden": true
   },
   "outputs": [],
   "source": [
    "# Exploring datatypes\n",
    "df_full = pd.DataFrame({'A': 1.,\n",
    "                    'B': pd.Timestamp('20130102'),\n",
    "                    'C': pd.Series(1, index=list(range(4)), dtype='float32'),\n",
    "                    'D': np.array([3] * 4, dtype='int32'),\n",
    "                    'E': pd.Categorical([\"test\", \"train\", \"test\", \"train\"]),\n",
    "                   'F': 'foo'})\n",
    "print(df_full)\n",
    "df_full.dtypes"
   ]
  },
  {
   "cell_type": "code",
   "execution_count": null,
   "metadata": {
    "ExecuteTime": {
     "end_time": "2019-06-07T14:46:16.055525Z",
     "start_time": "2019-06-07T14:46:16.045677Z"
    },
    "hidden": true
   },
   "outputs": [],
   "source": [
    "# Sorting\n",
    "df_to_sort = pd.DataFrame(np.random.randint(0,100,size=(4, 4)), columns=list('ABCD'))\n",
    "df_sorted = df_to_sort.sort_values(by='B')\n",
    "\n",
    "print(df_to_sort, \"\\n\\n\\n\", df_sorted)"
   ]
  },
  {
   "cell_type": "code",
   "execution_count": null,
   "metadata": {
    "ExecuteTime": {
     "end_time": "2019-06-07T15:14:55.053496Z",
     "start_time": "2019-06-07T15:14:55.029064Z"
    },
    "hidden": true
   },
   "outputs": [],
   "source": [
    "# Selection\n",
    "df_select = pd.DataFrame(np.random.randint(0,100,size=(100, 4)), columns=list('ABCD'))\n",
    "print(df_select.describe())\n",
    "\n",
    "selection = df[df['A'] > 30]\n",
    "print(selection.describe())\n",
    "\n",
    "print(sorted(selection.A.unique()))"
   ]
  },
  {
   "cell_type": "markdown",
   "metadata": {
    "heading_collapsed": true
   },
   "source": [
    "## Files I/O"
   ]
  },
  {
   "cell_type": "markdown",
   "metadata": {
    "heading_collapsed": true,
    "hidden": true
   },
   "source": [
    "### CSV"
   ]
  },
  {
   "cell_type": "code",
   "execution_count": null,
   "metadata": {
    "ExecuteTime": {
     "end_time": "2019-06-07T14:10:06.721909Z",
     "start_time": "2019-06-07T14:10:06.704656Z"
    },
    "hidden": true
   },
   "outputs": [],
   "source": [
    "# DataFrame from CSV\n",
    "sales_data = pd.read_csv('data/blooth_sales_data.csv')\n",
    "sales_data.describe()"
   ]
  },
  {
   "cell_type": "code",
   "execution_count": null,
   "metadata": {
    "ExecuteTime": {
     "end_time": "2019-06-07T14:07:47.424010Z",
     "start_time": "2019-06-07T14:07:47.397034Z"
    },
    "hidden": true
   },
   "outputs": [],
   "source": [
    "sales_data.head(50)"
   ]
  },
  {
   "cell_type": "code",
   "execution_count": null,
   "metadata": {
    "ExecuteTime": {
     "end_time": "2019-06-07T14:07:59.931362Z",
     "start_time": "2019-06-07T14:07:59.915743Z"
    },
    "hidden": true
   },
   "outputs": [],
   "source": [
    "sales_data.tail(10)"
   ]
  },
  {
   "cell_type": "code",
   "execution_count": null,
   "metadata": {
    "ExecuteTime": {
     "end_time": "2019-06-07T14:10:12.719556Z",
     "start_time": "2019-06-07T14:10:12.712823Z"
    },
    "hidden": true
   },
   "outputs": [],
   "source": [
    "sales_data.info()"
   ]
  },
  {
   "cell_type": "code",
   "execution_count": null,
   "metadata": {
    "ExecuteTime": {
     "end_time": "2019-06-07T14:08:56.977312Z",
     "start_time": "2019-06-07T14:08:56.931701Z"
    },
    "hidden": true
   },
   "outputs": [],
   "source": [
    "?pd.read_csv"
   ]
  },
  {
   "cell_type": "code",
   "execution_count": null,
   "metadata": {
    "ExecuteTime": {
     "end_time": "2019-06-07T14:10:16.471047Z",
     "start_time": "2019-06-07T14:10:16.459466Z"
    },
    "hidden": true
   },
   "outputs": [],
   "source": [
    "sales_data_dt = pd.read_csv('data/blooth_sales_data.csv',\n",
    "                         parse_dates=['birthday', 'orderdate']\n",
    "                        )\n",
    "sales_data_dt.info()"
   ]
  },
  {
   "cell_type": "code",
   "execution_count": null,
   "metadata": {
    "ExecuteTime": {
     "end_time": "2019-06-07T14:12:17.664975Z",
     "start_time": "2019-06-07T14:12:17.657991Z"
    },
    "hidden": true
   },
   "outputs": [],
   "source": [
    "print(sales_data.memory_usage(deep=True).sum())\n",
    "print(sales_data_dt.memory_usage(deep=True).sum())"
   ]
  },
  {
   "cell_type": "markdown",
   "metadata": {
    "heading_collapsed": true,
    "hidden": true
   },
   "source": [
    "### JSON"
   ]
  },
  {
   "cell_type": "code",
   "execution_count": null,
   "metadata": {
    "ExecuteTime": {
     "end_time": "2019-06-07T15:20:15.358167Z",
     "start_time": "2019-06-07T15:20:15.321094Z"
    },
    "hidden": true
   },
   "outputs": [],
   "source": [
    "sales_data_json = pd.read_json('data/blooth_sales_data.json')\n",
    "sales_data_json.head(5)"
   ]
  },
  {
   "cell_type": "markdown",
   "metadata": {
    "hidden": true
   },
   "source": [
    "### Clipboard"
   ]
  },
  {
   "cell_type": "code",
   "execution_count": null,
   "metadata": {
    "hidden": true
   },
   "outputs": [],
   "source": [
    "# Do not execute, just copy in clipboard\n",
    "    bar   foo\n",
    "0    4     1\n",
    "1    5     2\n",
    "2    6     3 "
   ]
  },
  {
   "cell_type": "code",
   "execution_count": null,
   "metadata": {
    "ExecuteTime": {
     "end_time": "2019-06-07T15:23:36.291105Z",
     "start_time": "2019-06-07T15:23:36.249113Z"
    },
    "hidden": true
   },
   "outputs": [],
   "source": [
    "# Parse content of clipboard in DataFrame\n",
    "sales_from_clipboard = pd.read_clipboard()\n",
    "sales_from_clipboard"
   ]
  },
  {
   "cell_type": "markdown",
   "metadata": {
    "heading_collapsed": true,
    "hidden": true
   },
   "source": [
    "### (Optional) Excel"
   ]
  },
  {
   "cell_type": "code",
   "execution_count": null,
   "metadata": {
    "ExecuteTime": {
     "end_time": "2019-06-07T15:20:16.938500Z",
     "start_time": "2019-06-07T15:20:16.828500Z"
    },
    "hidden": true
   },
   "outputs": [],
   "source": [
    "import xlrd\n",
    "sales_data_excel = pd.read_excel('data/blooth_sales_data.xlsx',\n",
    "                                usecols='A:B')\n",
    "sales_data_excel.head(5)"
   ]
  },
  {
   "cell_type": "markdown",
   "metadata": {},
   "source": [
    "### (Honorable mention) SQL"
   ]
  },
  {
   "cell_type": "code",
   "execution_count": null,
   "metadata": {},
   "outputs": [],
   "source": [
    "# Example only, do not run\n",
    "SQL_Query = pd.read_sql_query(\n",
    "'''select\n",
    "product_name,\n",
    "product_price_per_unit,\n",
    "units_ordered,\n",
    "((units_ordered) * (product_price_per_unit)) AS revenue\n",
    "from tracking_sales''', conn)"
   ]
  },
  {
   "cell_type": "markdown",
   "metadata": {
    "heading_collapsed": true
   },
   "source": [
    "## Statistics"
   ]
  },
  {
   "cell_type": "code",
   "execution_count": null,
   "metadata": {
    "ExecuteTime": {
     "end_time": "2019-06-07T16:03:34.989737Z",
     "start_time": "2019-06-07T16:03:34.968979Z"
    },
    "hidden": true
   },
   "outputs": [],
   "source": [
    "df = pd.DataFrame(np.random.randint(0,100,size=(1000, 4)), columns=['cars', 'id', 'price', 'number'])\n",
    "df.describe()"
   ]
  },
  {
   "cell_type": "code",
   "execution_count": null,
   "metadata": {
    "ExecuteTime": {
     "end_time": "2019-06-07T16:03:37.767685Z",
     "start_time": "2019-06-07T16:03:37.758860Z"
    },
    "hidden": true
   },
   "outputs": [],
   "source": [
    "print(df.head(5))\n",
    "df.head(5).mean()"
   ]
  },
  {
   "cell_type": "code",
   "execution_count": null,
   "metadata": {
    "ExecuteTime": {
     "end_time": "2019-06-07T16:03:39.624127Z",
     "start_time": "2019-06-07T16:03:39.615805Z"
    },
    "hidden": true
   },
   "outputs": [],
   "source": [
    "print(df.head(5))\n",
    "df.head(5).mean(1)"
   ]
  },
  {
   "cell_type": "code",
   "execution_count": null,
   "metadata": {
    "ExecuteTime": {
     "end_time": "2019-06-07T16:03:41.578493Z",
     "start_time": "2019-06-07T16:03:41.571809Z"
    },
    "hidden": true
   },
   "outputs": [],
   "source": [
    "df.apply(lambda x: x.max() - x.min())"
   ]
  },
  {
   "cell_type": "code",
   "execution_count": null,
   "metadata": {
    "ExecuteTime": {
     "end_time": "2019-06-07T16:03:43.280416Z",
     "start_time": "2019-06-07T16:03:43.270976Z"
    },
    "hidden": true
   },
   "outputs": [],
   "source": [
    "df.cars.value_counts()"
   ]
  },
  {
   "cell_type": "code",
   "execution_count": null,
   "metadata": {
    "ExecuteTime": {
     "end_time": "2019-06-07T16:13:13.704352Z",
     "start_time": "2019-06-07T16:13:13.687989Z"
    },
    "hidden": true
   },
   "outputs": [],
   "source": [
    "# Summary stats example\n",
    "\n",
    "df = pd.DataFrame({'Name':pd.Series(['Tom','James','Ricky','Vin','Steve','Smith','Jack',\n",
    "   'Lee','David','Gasper','Betina','Andres']),\n",
    "   'Age':pd.Series([25,26,25,23,30,29,23,34,40,30,51,46]),\n",
    "   'Rating':pd.Series([4.23,3.24,3.98,2.56,3.20,4.6,3.8,3.78,2.98,4.80,4.10,3.65])\n",
    "})\n",
    "\n",
    "df"
   ]
  },
  {
   "cell_type": "code",
   "execution_count": null,
   "metadata": {
    "hidden": true
   },
   "outputs": [],
   "source": [
    "print(\n",
    "    df,\n",
    "    '\\n\\nRating sum: ' + str(df.Rating.sum()),\n",
    "    '\\n\\nRating std dev: ' + str(df.Rating.std()),\n",
    "    '\\n\\nRating mean: ' + str(df.Rating.mean()),\n",
    "    '\\n\\nRating min: ' + str(df.Rating.min()),\n",
    "    '\\n\\nRating describe:\\n' + str(df.Rating.describe())\n",
    "    )"
   ]
  },
  {
   "cell_type": "markdown",
   "metadata": {
    "heading_collapsed": true
   },
   "source": [
    "## Visualisation"
   ]
  },
  {
   "cell_type": "code",
   "execution_count": null,
   "metadata": {
    "ExecuteTime": {
     "end_time": "2019-06-07T16:15:24.579362Z",
     "start_time": "2019-06-07T16:15:24.325939Z"
    },
    "hidden": true
   },
   "outputs": [],
   "source": [
    "\n",
    "ts = pd.Series(np.random.randn(1000),index=pd.date_range('1/1/2000', periods=1000))\n",
    "ts = ts.cumsum()\n",
    "ts.plot()"
   ]
  },
  {
   "cell_type": "code",
   "execution_count": null,
   "metadata": {
    "ExecuteTime": {
     "end_time": "2019-06-07T16:15:41.955584Z",
     "start_time": "2019-06-07T16:15:41.808520Z"
    },
    "hidden": true
   },
   "outputs": [],
   "source": [
    "ts.hist()"
   ]
  },
  {
   "cell_type": "code",
   "execution_count": null,
   "metadata": {
    "ExecuteTime": {
     "end_time": "2019-06-07T16:17:54.172025Z",
     "start_time": "2019-06-07T16:17:53.987446Z"
    },
    "hidden": true
   },
   "outputs": [],
   "source": [
    "ts.hist(bins=30)"
   ]
  },
  {
   "cell_type": "code",
   "execution_count": null,
   "metadata": {
    "ExecuteTime": {
     "end_time": "2019-06-07T16:16:56.582412Z",
     "start_time": "2019-06-07T16:16:56.285026Z"
    },
    "hidden": true
   },
   "outputs": [],
   "source": [
    "ts.hist(cumulative=True, bins=100)"
   ]
  },
  {
   "cell_type": "code",
   "execution_count": null,
   "metadata": {
    "ExecuteTime": {
     "end_time": "2019-06-07T16:46:32.668397Z",
     "start_time": "2019-06-07T16:46:32.138536Z"
    },
    "hidden": true
   },
   "outputs": [],
   "source": [
    "df = pd.DataFrame(np.random.randn(1000, 4), index=pd.date_range('1/1/2000', periods=1000), columns=['A', 'B', 'C', 'D'])\n",
    "df = df.cumsum()\n",
    "\n",
    "df.plot()\n",
    "\n",
    "plt.figure()\n",
    "df.plot()\n",
    "plt.xlabel('Date', fontsize=15)\n",
    "plt.ylabel('Cumulative Sum', fontsize=15)\n",
    "plt.title('Fancy graph', fontsize=15)\n",
    "plt.show()"
   ]
  },
  {
   "cell_type": "markdown",
   "metadata": {
    "heading_collapsed": true
   },
   "source": [
    "## Export"
   ]
  },
  {
   "cell_type": "markdown",
   "metadata": {},
   "source": [
    "* Simplest way - version control this .ipynb file\n",
    "* Export for reading only - File > Download as\n",
    "* Export the data created - `df.to_csv([path/filename.csv])` that was easy"
   ]
  }
 ],
 "metadata": {
  "kernelspec": {
   "display_name": "Python 3",
   "language": "python",
   "name": "python3"
  },
  "language_info": {
   "codemirror_mode": {
    "name": "ipython",
    "version": 3
   },
   "file_extension": ".py",
   "mimetype": "text/x-python",
   "name": "python",
   "nbconvert_exporter": "python",
   "pygments_lexer": "ipython3",
   "version": "3.7.0"
  }
 },
 "nbformat": 4,
 "nbformat_minor": 2
}
